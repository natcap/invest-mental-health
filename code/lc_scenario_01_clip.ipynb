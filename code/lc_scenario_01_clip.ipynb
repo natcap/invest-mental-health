{
 "cells": [
  {
   "cell_type": "markdown",
   "metadata": {},
   "source": [
    "# NLCD & TCC\n",
    "\n",
    "## Packages and working directory "
   ]
  },
  {
   "cell_type": "code",
   "execution_count": null,
   "metadata": {},
   "outputs": [
    {
     "name": "stdout",
     "output_type": "stream",
     "text": [
      "nlcd_2021_land_cover_l48_20230630\\nlcd_2021_land_cover_l48_20230630.img\n",
      "NLCD_TCC\\nlcd_tcc_conus_2021_v2021-4.tif\n"
     ]
    }
   ],
   "source": [
    "import os\n",
    "import numpy as np\n",
    "import geopandas as gpd\n",
    "import rasterio\n",
    "import matplotlib.pyplot as plt\n",
    "\n",
    "from rasterio.mask import mask\n",
    "from rasterio.plot import show\n",
    "from rasterio.enums import Resampling\n",
    "from rasterio.warp import calculate_default_transform, reproject, Resampling\n",
    "from rasterio.crs import CRS\n",
    "\n",
    "from shapely.geometry import box\n",
    "from matplotlib.colors import ListedColormap, BoundaryNorm\n",
    "\n",
    "\n",
    "# Set the working directory\n",
    "wd = 'E:/_data/LULC/NLCD_USA/'\n",
    "os.chdir(wd)\n",
    "\n",
    "dir_output = r'D:\\natcap\\invest-mental-health\\data\\lc_scenarios'\n",
    "\n",
    "# lc_baseline = os.path.join('nlcd_2019_land_cover_l48_20210604', 'nlcd_2019_land_cover_l48_20210604.img')\n",
    "lc_baseline = os.path.join('NLCD_Land_Cover_L48_2019424_full_zip', 'NLCD_2011_Land_Cover_L48_20190424.img')\n",
    "lc_scenario = os.path.join('nlcd_2021_land_cover_l48_20230630', 'nlcd_2021_land_cover_l48_20230630.img')\n",
    "\n",
    "\n",
    "# print(os.path.basename(lc_baseline))\n",
    "\n",
    "lc_b_output = os.path.join(dir_output, 'nlcd_2011_land_cover.tif')\n",
    "lc_s_output = os.path.join(dir_output, 'nlcd_2021_land_cover.tif')\n",
    "\n",
    "\n",
    "\n",
    "treeCanopy = os.path.join('NLCD_TCC', 'nlcd_tcc_conus_2021_v2021-4.tif')\n",
    "\n",
    "\n",
    "\n",
    "print(lc_scenario)\n",
    "print(treeCanopy)"
   ]
  },
  {
   "cell_type": "markdown",
   "metadata": {},
   "source": [
    "## AOI"
   ]
  },
  {
   "cell_type": "code",
   "execution_count": 17,
   "metadata": {},
   "outputs": [],
   "source": [
    "# Load the shapefile\n",
    "dir_shp = 'D:/natcap/invest-mental-health/data'\n",
    "shapefile_path = os.path.join(dir_shp, 'cb_2019_us_county_500k_06075_clip.shp')\n",
    "aoi = gpd.read_file(shapefile_path)\n",
    "\n",
    "\n",
    "# Load the San Francisco boundary (e.g., from a shapefile or GeoJSON)\n",
    "sf_boundary = gpd.read_file(shapefile_path)"
   ]
  },
  {
   "cell_type": "markdown",
   "metadata": {},
   "source": [
    "## Load functions"
   ]
  },
  {
   "cell_type": "code",
   "execution_count": 18,
   "metadata": {},
   "outputs": [],
   "source": [
    "code_dir = r\"D:\\natcap\\invest-mental-health\\code\"\n",
    "\n",
    "code_path = os.path.join(code_dir, \"function_reproject_and_align.py\")\n",
    "\n",
    "## load function \n",
    "with open(code_path) as f:\n",
    "    exec(f.read())"
   ]
  },
  {
   "cell_type": "markdown",
   "metadata": {},
   "source": [
    "## NLCD data"
   ]
  },
  {
   "cell_type": "markdown",
   "metadata": {},
   "source": [
    "### clip lc baseline "
   ]
  },
  {
   "cell_type": "code",
   "execution_count": 21,
   "metadata": {},
   "outputs": [],
   "source": [
    "# Ensure the shapefile's CRS matches the raster's CRS\n",
    "with rasterio.open(lc_baseline) as src_lc:\n",
    "    nlcd_crs = src_lc.crs\n",
    "    if sf_boundary.crs != nlcd_crs:\n",
    "        sf_boundary = sf_boundary.to_crs(nlcd_crs)\n",
    "\n",
    "# Load the NLCD raster\n",
    "with rasterio.open(lc_baseline) as src_lc:\n",
    "    # Clip the raster using the shapefile\n",
    "    lc_baseline_clipped, clipped_transform = mask(src_lc, sf_boundary.geometry, crop=True)\n",
    "    \n",
    "    # Update metadata with the new transform and dimensions\n",
    "    clipped_meta = src_lc.meta.copy()\n",
    "    clipped_meta.update({\n",
    "        \"driver\": \"GTiff\",\n",
    "        \"height\": lc_baseline_clipped.shape[1],\n",
    "        \"width\": lc_baseline_clipped.shape[2],\n",
    "        \"transform\": clipped_transform\n",
    "    })\n",
    "\n",
    "    # Save the clipped raster to a new file\n",
    "    with rasterio.open(lc_b_output, \"w\", **clipped_meta) as dest:\n",
    "        dest.write(lc_baseline_clipped)\n"
   ]
  },
  {
   "cell_type": "markdown",
   "metadata": {},
   "source": [
    "### clip lc scenario"
   ]
  },
  {
   "cell_type": "code",
   "execution_count": 20,
   "metadata": {},
   "outputs": [],
   "source": [
    "# Ensure the shapefile's CRS matches the raster's CRS\n",
    "with rasterio.open(lc_scenario) as src_lc:\n",
    "    nlcd_crs = src_lc.crs\n",
    "    if sf_boundary.crs != nlcd_crs:\n",
    "        sf_boundary = sf_boundary.to_crs(nlcd_crs)\n",
    "\n",
    "# Load the NLCD raster\n",
    "with rasterio.open(lc_scenario) as src_lc:\n",
    "    # Clip the raster using the shapefile\n",
    "    lc_scenario_clipped, clipped_transform = mask(src_lc, sf_boundary.geometry, crop=True)\n",
    "    \n",
    "    # Update metadata with the new transform and dimensions\n",
    "    clipped_meta = src_lc.meta.copy()\n",
    "    clipped_meta.update({\n",
    "        \"driver\": \"GTiff\",\n",
    "        \"height\": lc_scenario_clipped.shape[1],\n",
    "        \"width\": lc_scenario_clipped.shape[2],\n",
    "        \"transform\": clipped_transform\n",
    "    })\n",
    "\n",
    "    # Save the clipped raster to a new file\n",
    "    with rasterio.open(lc_s_output, \"w\", **clipped_meta) as dest:\n",
    "        dest.write(lc_scenario_clipped)\n"
   ]
  }
 ],
 "metadata": {
  "kernelspec": {
   "display_name": "Python 3",
   "language": "python",
   "name": "python3"
  },
  "language_info": {
   "codemirror_mode": {
    "name": "ipython",
    "version": 3
   },
   "file_extension": ".py",
   "mimetype": "text/x-python",
   "name": "python",
   "nbconvert_exporter": "python",
   "pygments_lexer": "ipython3",
   "version": "3.12.4"
  }
 },
 "nbformat": 4,
 "nbformat_minor": 2
}
