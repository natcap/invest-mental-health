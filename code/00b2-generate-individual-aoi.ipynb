{
 "cells": [
  {
   "cell_type": "markdown",
   "id": "827e138f",
   "metadata": {},
   "source": [
    "## Setup"
   ]
  },
  {
   "cell_type": "code",
   "execution_count": null,
   "id": "60f623d3",
   "metadata": {},
   "outputs": [
    {
     "name": "stdout",
     "output_type": "stream",
     "text": [
      "=== Environment Info ===\n",
      "Python envi    : c:\\Users\\pc\\.conda\\envs\\geo_env\\python.exe\n",
      "Python version : 3.11.13\n",
      "Platform       : Windows-10-10.0.22631-SP0\n",
      "geopandas      : 0.14.4\n",
      "numpy          : 1.26.4\n",
      "matplotlib     : 3.10.6\n",
      "========================\n",
      "Current working directory: d:\\natcap\\invest-mental-health\n"
     ]
    }
   ],
   "source": [
    "import os\n",
    "import re\n",
    "import geopandas as gpd\n",
    "import pandas as pd\n",
    "import numpy as np\n",
    "from pathlib import Path\n",
    "\n",
    "\n",
    "import sys, platform\n",
    "print(\"=== Environment Info ===\")\n",
    "print(f\"Python envi    : {sys.executable}\")\n",
    "print(f\"Python version : {sys.version.split()[0]}\")\n",
    "print(f\"Platform       : {platform.platform()}\")\n",
    "print(f\"geopandas      : {gpd.__version__}\")\n",
    "print(f\"numpy          : {np.__version__}\")\n",
    "print(\"========================\")\n",
    "\n",
    "\n",
    "\n",
    "\n",
    "# Get and print current working directory\n",
    "cwd = os.path.dirname(os.getcwd())\n",
    "cwd = Path(cwd)\n",
    "print(\"Current working directory:\", cwd)\n",
    "\n",
    "# Define output path\n",
    "dir_aoi    = cwd / \"data\"/ \"aoi\"\n",
    "dir_share  = Path(r\"G:\\Shared drives\\invest-health\\City500\")\n",
    "dir_figure = cwd / \"figures\"\n"
   ]
  },
  {
   "cell_type": "markdown",
   "id": "2b758e7c",
   "metadata": {},
   "source": [
    "## Data"
   ]
  },
  {
   "cell_type": "code",
   "execution_count": 12,
   "id": "05c4e41b",
   "metadata": {},
   "outputs": [
    {
     "name": "stdout",
     "output_type": "stream",
     "text": [
      "['STATEFP', 'PLACEFP', 'PLACENS', 'AFFGEOID_l', 'GEOID_PLAC', 'NAME_PLACE', 'NAMELSAD_l', 'STUSPS', 'STATE_NAME', 'LSAD', 'ALAND', 'AWATER', 'SUMLEV', 'STATE', 'PLACE', 'POP2020_le', 'POP2021_le', 'POP2022_le', 'POP2023_le', 'POP2024_le', 'POP_KM2_le', 'CSAFP', 'CBSAFP', 'METDIVFP', 'AFFGEOID_r', 'GEOID_METR', 'NAME_METRO', 'NAMELSAD_r', 'LSAD_x', 'MDIV', 'LSAD_y', 'SBASE2020', 'POP2020_ri', 'POP2021_ri', 'POP2022_ri', 'POP2023_ri', 'POP2024_ri', 'GEOID_MDIV', 'POP_KM2_ri', 'count', 'level', 'AFFGEOID', 'NAMELSAD', 'POP2020', 'POP2021', 'POP2022', 'POP2023', 'POP2024', 'POP_KM2', 'geometry']\n"
     ]
    }
   ],
   "source": [
    "## Load data\n",
    "\n",
    "aoi_f = dir_aoi / 'places_in_or_touching_metros_487.shp'\n",
    "\n",
    "aoi500 = gpd.read_file(aoi_f)\n",
    "\n",
    "print(aoi500.columns.to_list())"
   ]
  },
  {
   "cell_type": "markdown",
   "id": "0377ed20",
   "metadata": {},
   "source": [
    "### save each city as a seperate file"
   ]
  },
  {
   "cell_type": "code",
   "execution_count": null,
   "id": "bbe2524c",
   "metadata": {},
   "outputs": [],
   "source": [
    "dir_aoi_each  = dir_share / 'aoi_each'   # output folder\n",
    "dir_aoi_each.mkdir(parents=True, exist_ok=True)\n",
    "\n",
    "id_col = \"GEOID_PLAC\" # column to split by\n",
    "\n",
    "def safe_name(s, maxlen=50):\n",
    "    \"\"\"Make a safe filename from an id value.\"\"\"\n",
    "    s = str(s)\n",
    "    s = re.sub(r\"[^A-Za-z0-9_.-]+\", \"_\", s)\n",
    "    return s[:maxlen] or \"NA\"\n",
    "\n",
    "for geoid, g in aoi500.groupby(id_col):\n",
    "    fname = f\"city_{safe_name(geoid)}.shp\"\n",
    "    g.to_file(dir_aoi_each / fname, driver=\"ESRI Shapefile\")\n",
    "    # print(\"saved:\", dir_aoi_each / fname)    \n"
   ]
  }
 ],
 "metadata": {
  "kernelspec": {
   "display_name": "geo_env",
   "language": "python",
   "name": "python3"
  },
  "language_info": {
   "codemirror_mode": {
    "name": "ipython",
    "version": 3
   },
   "file_extension": ".py",
   "mimetype": "text/x-python",
   "name": "python",
   "nbconvert_exporter": "python",
   "pygments_lexer": "ipython3",
   "version": "3.11.13"
  }
 },
 "nbformat": 4,
 "nbformat_minor": 5
}
